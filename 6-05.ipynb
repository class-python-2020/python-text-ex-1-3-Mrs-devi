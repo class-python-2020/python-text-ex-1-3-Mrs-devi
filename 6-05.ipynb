{
 "metadata": {
  "language_info": {
   "codemirror_mode": {
    "name": "ipython",
    "version": 3
   },
   "file_extension": ".py",
   "mimetype": "text/x-python",
   "name": "python",
   "nbconvert_exporter": "python",
   "pygments_lexer": "ipython3",
   "version": 3
  },
  "orig_nbformat": 2,
  "kernelspec": {
   "name": "python_defaultSpec_1597233494865",
   "display_name": "Python 3.8.2 32-bit"
  }
 },
 "nbformat": 4,
 "nbformat_minor": 2,
 "cells": [
  {
   "cell_type": "code",
   "execution_count": 1,
   "metadata": {},
   "outputs": [],
   "source": [
    "def func(v):\n",
    "    i = v + 3\n",
    "    return i"
   ]
  },
  {
   "cell_type": "code",
   "execution_count": 3,
   "metadata": {
    "tags": []
   },
   "outputs": [
    {
     "output_type": "execute_result",
     "data": {
      "text/plain": "8"
     },
     "metadata": {},
     "execution_count": 3
    }
   ],
   "source": [
    "import my_module\n",
    "my_module.func(5)"
   ]
  },
  {
   "cell_type": "code",
   "execution_count": 27,
   "metadata": {},
   "outputs": [],
   "source": [
    "def func(v):\n",
    "    i = v + 3\n",
    "    return i\n",
    "\n",
    "class MyClass:\n",
    "    def __init__(self,a=1,b=2):\n",
    "        self.a = a\n",
    "        self.b = b\n",
    "    \n",
    "    def show_attributes(self):\n",
    "        print(\"a = {},b = {},sum: {}\".format(self.a,self.b,self.sum()))\n",
    "\n",
    "    def sum(self):\n",
    "        return self.a + self.b"
   ]
  },
  {
   "cell_type": "code",
   "execution_count": 1,
   "metadata": {
    "tags": []
   },
   "outputs": [
    {
     "output_type": "stream",
     "name": "stdout",
     "text": "a = 3,b = 5,sum: 8\na = 3,b = 5,sum: 8\n"
    },
    {
     "output_type": "execute_result",
     "data": {
      "text/plain": "13"
     },
     "metadata": {},
     "execution_count": 1
    }
   ],
   "source": [
    "import my_module1\n",
    "my_class = my_module1.MyClass(3,5)\n",
    "my_class.show_attributes()\n",
    "my_module1.func(10)"
   ]
  },
  {
   "cell_type": "code",
   "execution_count": 2,
   "metadata": {
    "tags": []
   },
   "outputs": [
    {
     "output_type": "stream",
     "name": "stdout",
     "text": "__name__: __main__\na = 3,b = 5,sum: 8\n"
    }
   ],
   "source": [
    "print(\"__name__:\",__name__)\n",
    "def func(v):\n",
    "    i = v + 3\n",
    "    return i\n",
    "\n",
    "class MyClass:\n",
    "    def __init__(self,a=1,b=2):\n",
    "        self.a = a\n",
    "        self.b = b\n",
    "    \n",
    "    def show_attributes(self):\n",
    "        print(\"a = {},b = {},sum: {}\".format(self.a,self.b,self.sum()))\n",
    "\n",
    "    def sum(self):\n",
    "        return self.a + self.b\n",
    "\n",
    "if __name__ == \"__main__\":\n",
    "    my_class = MyClass(3,5)\n",
    "    my_class.show_attributes()"
   ]
  },
  {
   "cell_type": "code",
   "execution_count": 1,
   "metadata": {
    "tags": []
   },
   "outputs": [
    {
     "output_type": "stream",
     "name": "stdout",
     "text": "__name__: my_module2\na = 3,b = 5,sum: 8\n"
    }
   ],
   "source": [
    "import my_module2\n",
    "m2 = my_module2.MyClass(3,5)\n",
    "m2.show_attributes()"
   ]
  },
  {
   "cell_type": "code",
   "execution_count": 19,
   "metadata": {
    "tags": []
   },
   "outputs": [
    {
     "output_type": "stream",
     "name": "stdout",
     "text": "This is 'my_package.module_a'.\n"
    }
   ],
   "source": [
    "import my_package.module_a\n",
    "\n",
    "my_package.module_a.func_in_module_under_dir()"
   ]
  },
  {
   "cell_type": "code",
   "execution_count": 1,
   "metadata": {},
   "outputs": [
    {
     "output_type": "execute_result",
     "data": {
      "text/plain": "32"
     },
     "metadata": {},
     "execution_count": 1
    }
   ],
   "source": [
    "import my_math\n",
    "my_math.my_pow(2,5)"
   ]
  },
  {
   "cell_type": "code",
   "execution_count": 2,
   "metadata": {},
   "outputs": [
    {
     "output_type": "execute_result",
     "data": {
      "text/plain": "1.4142135623730951"
     },
     "metadata": {},
     "execution_count": 2
    }
   ],
   "source": [
    "my_math.my_pow(2,0.5)"
   ]
  },
  {
   "cell_type": "code",
   "execution_count": 3,
   "metadata": {},
   "outputs": [
    {
     "output_type": "execute_result",
     "data": {
      "text/plain": "(1.2246467991473532e-16+2j)"
     },
     "metadata": {},
     "execution_count": 3
    }
   ],
   "source": [
    "ans = my_math.my_pow(-4,0.5)\n",
    "ans"
   ]
  },
  {
   "cell_type": "code",
   "execution_count": 4,
   "metadata": {
    "tags": []
   },
   "outputs": [
    {
     "output_type": "stream",
     "name": "stdout",
     "text": "実数部分: 1.2246467991473532e-16,虚数部分: 2.0\n"
    }
   ],
   "source": [
    "print(\"実数部分: {},虚数部分: {}\".format(ans.real,ans.imag))"
   ]
  },
  {
   "cell_type": "code",
   "execution_count": 14,
   "metadata": {},
   "outputs": [],
   "source": [
    "with open(\"my_math2.py\",\"w\") as f:\n",
    "    f.writelines('''def my_pow(x,y):\n",
    "    return x ** y\n",
    "if __name__ == \"__main__\":\n",
    "    x,y,exp = 2,5,32\n",
    "    ans = my_pow(x,y)\n",
    "    print(\"Test my_pow({},{}) -> {},exp: {} ---- \".format(x,y,ans,exp),end=\"\")\n",
    "    if ans == exp:\n",
    "        print(\"Test OK\")\n",
    "    else:\n",
    "        print(\"Test Fail\")\\n''')"
   ]
  },
  {
   "cell_type": "code",
   "execution_count": 15,
   "metadata": {},
   "outputs": [
    {
     "output_type": "execute_result",
     "data": {
      "text/plain": "32"
     },
     "metadata": {},
     "execution_count": 15
    }
   ],
   "source": [
    "import my_math2\n",
    "my_math2.my_pow(2,5)"
   ]
  },
  {
   "cell_type": "code",
   "execution_count": null,
   "metadata": {},
   "outputs": [],
   "source": []
  }
 ]
}